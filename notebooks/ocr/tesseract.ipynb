{
 "cells": [
  {
   "cell_type": "code",
   "execution_count": null,
   "metadata": {},
   "outputs": [],
   "source": [
    "import pytesseract\n",
    "import cv2"
   ]
  },
  {
   "cell_type": "code",
   "execution_count": 2,
   "metadata": {},
   "outputs": [],
   "source": [
    "def extract_text_from_image(image_path: str):\n",
    "    \"\"\"\n",
    "    Extract text from an image using pytesseract.\n",
    "\n",
    "    Parameters:\n",
    "    image_path (str): Path to the image file.\n",
    "\n",
    "    Returns:\n",
    "    str: Extracted text from the image.\n",
    "    \"\"\"\n",
    "    try:\n",
    "        # Load the image\n",
    "        image = cv2.imread(image_path)\n",
    "        if image is None:\n",
    "            raise ValueError(\"Unable to load the image. Check the file path.\")\n",
    "\n",
    "        # Use pytesseract to extract text\n",
    "        extracted_text = pytesseract.image_to_string(image, lang=\"eng\")\n",
    "        return extracted_text.strip()\n",
    "    except Exception as e:\n",
    "        raise RuntimeError(f\"Failed to extract text from image: {e}\")"
   ]
  },
  {
   "cell_type": "code",
   "execution_count": 3,
   "metadata": {},
   "outputs": [
    {
     "name": "stdout",
     "output_type": "stream",
     "text": [
      "Extracted Text:\n",
      "Job Application Form\n",
      "\n",
      "Thank you for your interest in working with us. Please check below for available job opportunities\n",
      "\n",
      "that meet your criteria and send your application by filling out the Job Application Form.\n",
      "\n",
      "Name\n",
      "\n",
      "| First | [Last\n",
      "\n",
      "Email\n",
      "\n",
      "| john.doe@example.com\n",
      "\n",
      "What position are you applying for? Available date\n",
      "\n",
      "| -Select- y) | mmspp/ yyy\n",
      "\n",
      "What is your current employee status?\n",
      "\n",
      "© Employed © Self-Employed\n",
      "\n",
      "© Unemployed O Student\n",
      "\n",
      "Please provide your resume link Please upload your resume\n",
      "\n",
      "| https://www.example.com/ | | Resume 2 }\n",
      "\n",
      "Do you have references? (optional)\n",
      "\n",
      "| First | [Last\n",
      "\n",
      "Reference email\n",
      "\n",
      "| john.doe@example.com\n"
     ]
    }
   ],
   "source": [
    "image_path = \"data/form.jpg\"  # Replace with the path to your image\n",
    "text = extract_text_from_image(image_path)\n",
    "print(\"Extracted Text:\")\n",
    "print(text)"
   ]
  }
 ],
 "metadata": {
  "kernelspec": {
   "display_name": "env",
   "language": "python",
   "name": "python3"
  },
  "language_info": {
   "codemirror_mode": {
    "name": "ipython",
    "version": 3
   },
   "file_extension": ".py",
   "mimetype": "text/x-python",
   "name": "python",
   "nbconvert_exporter": "python",
   "pygments_lexer": "ipython3",
   "version": "3.12.8"
  }
 },
 "nbformat": 4,
 "nbformat_minor": 2
}
